{
 "cells": [
  {
   "cell_type": "code",
   "execution_count": null,
   "id": "7dd207cf-6401-42d9-8843-814585597e32",
   "metadata": {},
   "outputs": [],
   "source": []
  },
  {
   "cell_type": "code",
   "execution_count": 2,
   "id": "fd303476-d27d-4f5c-b2e1-ad3aff4ece32",
   "metadata": {},
   "outputs": [
    {
     "data": {
      "text/plain": [
       "'<think>\\n\\n</think>\\n\\nWhy don’t skeletons fight each other?  \\nBecause they have too many bones to split!'"
      ]
     },
     "execution_count": 2,
     "metadata": {},
     "output_type": "execute_result"
    }
   ],
   "source": [
    "# pip install langchain-ollama\n",
    "from langchain_ollama.llms import OllamaLLM\n",
    "\n",
    "llm = OllamaLLM(model=\"deepseek-r1:7b\")\n",
    "llm.invoke(\"Tell me a joke\")"
   ]
  },
  {
   "cell_type": "code",
   "execution_count": 8,
   "id": "45a91d70-9fdb-4eaa-a034-753921877e95",
   "metadata": {},
   "outputs": [
    {
     "data": {
      "text/plain": [
       "'A man walked into a library and asked the librarian, \"Do you have any books on Pavlov\\'s dogs and Schrödinger\\'s cat?\" The librarian replied, \"It rings a bell, but I\\'m not sure if it\\'s here or not.\"'"
      ]
     },
     "execution_count": 8,
     "metadata": {},
     "output_type": "execute_result"
    }
   ],
   "source": [
    "llm.invoke(\"Tell me a joke\")"
   ]
  },
  {
   "cell_type": "code",
   "execution_count": 9,
   "id": "fffba4fa-d0d3-481c-8964-83fcd45e73a3",
   "metadata": {},
   "outputs": [
    {
     "data": {
      "text/plain": [
       "\"Namaste Ganesh Ghag! It's a pleasure to meet you. I hope you're having a wonderful day. Is there anything I can help you with or would you like to chat?\""
      ]
     },
     "execution_count": 9,
     "metadata": {},
     "output_type": "execute_result"
    }
   ],
   "source": [
    "llm.invoke(\"My name is ganesh ghag\")"
   ]
  },
  {
   "cell_type": "code",
   "execution_count": 10,
   "id": "064d3814-0ec3-48eb-a6c1-a7ccc777b2f5",
   "metadata": {},
   "outputs": [
    {
     "data": {
      "text/plain": [
       "\"I don't know your name. I'm a large language model, I don't have the ability to store information about individual users or keep track of personal details. Each time you interact with me, it's a new conversation and I don't retain any information from previous conversations. If you'd like to share your name with me, I'd be happy to chat with you!\""
      ]
     },
     "execution_count": 10,
     "metadata": {},
     "output_type": "execute_result"
    }
   ],
   "source": [
    "llm.invoke(\"what is my name?\")"
   ]
  },
  {
   "cell_type": "code",
   "execution_count": 11,
   "id": "e5fd16bd-6dd0-4252-b51f-28c560b092d0",
   "metadata": {},
   "outputs": [
    {
     "data": {
      "text/plain": [
       "'LangChain is an open-source, Python-based library that enables the creation of custom blockchains and decentralized applications (dApps) using blockchain technology.\\n\\nTo better understand what LangChain can do, let\\'s break it down into its core components:\\n\\n1. **Blockchain Template**: LangChain provides a pre-built template for creating custom blockchains, which includes a consensus algorithm, data storage, and other essential features.\\n2. **Smart Contract Engine**: The library includes a smart contract engine that allows developers to create, deploy, and manage their own blockchain-based smart contracts.\\n3. **Custom Blockchain Chaincode**: LangChain enables developers to define their own chaincode, which is the \"brain\" of the blockchain, responsible for executing transactions and enforcing rules.\\n\\nBy using LangChain, developers can:\\n\\n* Create custom blockchains tailored to specific use cases\\n* Build decentralized applications (dApps) that interact with blockchain-based services\\n* Develop smart contracts that automate complex business logic\\n* Integrate blockchain technology into existing systems and applications\\n\\nOverall, LangChain provides a flexible and powerful platform for building custom blockchain solutions, making it an attractive choice for developers looking to tap into the potential of blockchain technology.'"
      ]
     },
     "execution_count": 11,
     "metadata": {},
     "output_type": "execute_result"
    }
   ],
   "source": [
    "from langchain_core.prompts import ChatPromptTemplate\n",
    "from langchain_ollama.llms import OllamaLLM\n",
    "\n",
    "template = \"\"\"Question: {question}\n",
    "\n",
    "Answer: Let's think step by step.\"\"\"\n",
    "\n",
    "prompt = ChatPromptTemplate.from_template(template)\n",
    "\n",
    "model = OllamaLLM(model=\"llama3.2\")\n",
    "\n",
    "chain = prompt | model\n",
    "\n",
    "chain.invoke({\"question\": \"What is LangChain?\"})"
   ]
  },
  {
   "cell_type": "code",
   "execution_count": null,
   "id": "22bfcb27-e91e-43f7-b3cd-e670ffcad584",
   "metadata": {},
   "outputs": [],
   "source": []
  }
 ],
 "metadata": {
  "kernelspec": {
   "display_name": "Python 3 (ipykernel)",
   "language": "python",
   "name": "python3"
  },
  "language_info": {
   "codemirror_mode": {
    "name": "ipython",
    "version": 3
   },
   "file_extension": ".py",
   "mimetype": "text/x-python",
   "name": "python",
   "nbconvert_exporter": "python",
   "pygments_lexer": "ipython3",
   "version": "3.12.8"
  }
 },
 "nbformat": 4,
 "nbformat_minor": 5
}
