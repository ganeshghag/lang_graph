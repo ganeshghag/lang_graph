{
 "cells": [
  {
   "cell_type": "code",
   "execution_count": 3,
   "id": "aa159fed-8b39-44ee-ae87-7a9dd1570060",
   "metadata": {},
   "outputs": [
    {
     "name": "stdout",
     "output_type": "stream",
     "text": [
      "ChatCompletionMessage(content='<think>\\n\\n</think>\\n\\nLangGraph, developed by DeepSeek, is an intelligent language model designed to assist with various natural language processing tasks. It is trained on a large corpus of text data and can perform tasks such as text generation, summarization, translation, and question answering. If you have specific questions or need assistance with any task, feel free to ask!', refusal=None, role='assistant', audio=None, function_call=None, tool_calls=None)\n"
     ]
    }
   ],
   "source": [
    "# Please install OpenAI SDK first: `pip install openai`\n",
    "from openai import OpenAI\n",
    "client = OpenAI(api_key=\"ollama\", base_url=\"http://127.0.0.1:11434/v1\")\n",
    "\n",
    "response = client.chat.completions.create(\n",
    "    model=\"deepseek-r1:7b\",\n",
    "    messages=[\n",
    "        {\"role\": \"system\", \"content\": \"You are a helpful assistant\"},\n",
    "        {\"role\": \"user\", \"content\": \"What do you know about LangGraph?\"},\n",
    "    ],\n",
    "    stream=False\n",
    ")\n",
    "\n",
    "print(response.choices[0].message)"
   ]
  },
  {
   "cell_type": "code",
   "execution_count": null,
   "id": "ad61b3a6-23f4-476c-8537-17a4ebae337d",
   "metadata": {},
   "outputs": [],
   "source": []
  }
 ],
 "metadata": {
  "kernelspec": {
   "display_name": "Python 3 (ipykernel)",
   "language": "python",
   "name": "python3"
  },
  "language_info": {
   "codemirror_mode": {
    "name": "ipython",
    "version": 3
   },
   "file_extension": ".py",
   "mimetype": "text/x-python",
   "name": "python",
   "nbconvert_exporter": "python",
   "pygments_lexer": "ipython3",
   "version": "3.12.8"
  }
 },
 "nbformat": 4,
 "nbformat_minor": 5
}
