{
 "cells": [
  {
   "cell_type": "code",
   "execution_count": 1,
   "id": "cee547d1-6081-4761-aef0-900851190cf2",
   "metadata": {},
   "outputs": [],
   "source": [
    "# pip install langchain\n",
    "# pip install langchain-ollama\n",
    "# pip install langgraph\n",
    "# ollama run llama3.2"
   ]
  },
  {
   "cell_type": "code",
   "execution_count": 2,
   "id": "8a87a028-aeb2-46eb-9094-57f2712b1541",
   "metadata": {},
   "outputs": [
    {
     "name": "stdout",
     "output_type": "stream",
     "text": [
      "{'messages': [HumanMessage(content='What do you know about LangGraph?', additional_kwargs={}, response_metadata={}, id='9c34b4e1-d1e7-44c9-8ec0-0a49574f1870'), HumanMessage(content=\"LangGraph is an open-source graph database designed to be highly performant, scalable, and flexible. It's built on top of the C++ standard library and uses a storage engine that allows for efficient data retrieval.\\n\\nSome key features of LangGraph include:\\n\\n1. High-performance: LangGraph is optimized for high-speed data processing and querying.\\n2. Scalability: The database can handle large amounts of data and scale horizontally to meet increasing demands.\\n3. Flexibility: LangGraph supports various graph data models, including labeled and unlabeled graphs.\\n4. Real-time queries: The database allows for real-time query performance, making it suitable for applications that require immediate results.\\n5. Integration with other systems: LangGraph can be integrated with other systems and frameworks using standard APIs.\\n\\nLangGraph is designed to meet the needs of modern graph-based applications, such as:\\n\\n1. Social network analysis\\n2. Recommendation engines\\n3. Knowledge graphs\\n4. Artificial intelligence (AI) and machine learning (ML)\\n5. Network analytics\\n\\nOverall, LangGraph appears to be a powerful tool for building efficient and scalable graph databases.\", additional_kwargs={}, response_metadata={}, id='42dc8a55-49e7-450c-bd73-9f2e8adb5f06')]}\n"
     ]
    }
   ],
   "source": [
    "from typing import Annotated\n",
    "from typing_extensions import TypedDict\n",
    "from langgraph.graph import StateGraph, START, END\n",
    "from langgraph.graph.message import add_messages\n",
    "\n",
    "class State(TypedDict):\n",
    "    messages: Annotated[list, add_messages]\n",
    "\n",
    "graph_builder = StateGraph(State)\n",
    "\n",
    "from langchain_ollama.llms import OllamaLLM\n",
    "llm = OllamaLLM(model=\"llama3.2\")\n",
    "\n",
    "def chatbot(state: State):\n",
    "    return {\"messages\": [llm.invoke(state[\"messages\"])]}\n",
    "\n",
    "graph_builder.add_node(\"chatbot\", chatbot)\n",
    "graph_builder.add_edge(START, \"chatbot\")\n",
    "graph_builder.add_edge(\"chatbot\", END)\n",
    "graph = graph_builder.compile()\n",
    "ret_message = graph.invoke({\"messages\": [{\"role\": \"user\", \"content\": \"What do you know about LangGraph?\"}]})\n",
    "print(ret_message)"
   ]
  },
  {
   "cell_type": "code",
   "execution_count": null,
   "id": "61bad49f-0ecf-47dc-98af-6cb6a473ef6e",
   "metadata": {},
   "outputs": [],
   "source": []
  },
  {
   "cell_type": "code",
   "execution_count": null,
   "id": "2393fdf2-46eb-4fdd-af0e-dfabb3dca84f",
   "metadata": {},
   "outputs": [],
   "source": [
    "# NOT WORKING in my env\n",
    "from IPython.display import Image, display\n",
    "\n",
    "try:\n",
    "    display(Image(graph.get_graph().draw_mermaid_png()))\n",
    "except Exception:\n",
    "    # This requires some extra dependencies and is optional\n",
    "    pass"
   ]
  }
 ],
 "metadata": {
  "kernelspec": {
   "display_name": "Python 3 (ipykernel)",
   "language": "python",
   "name": "python3"
  },
  "language_info": {
   "codemirror_mode": {
    "name": "ipython",
    "version": 3
   },
   "file_extension": ".py",
   "mimetype": "text/x-python",
   "name": "python",
   "nbconvert_exporter": "python",
   "pygments_lexer": "ipython3",
   "version": "3.12.8"
  }
 },
 "nbformat": 4,
 "nbformat_minor": 5
}
