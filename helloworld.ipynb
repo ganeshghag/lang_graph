{
 "cells": [
  {
   "cell_type": "code",
   "execution_count": 5,
   "id": "4bd6d6e3-6ac5-43ac-910b-c15cfa08342a",
   "metadata": {},
   "outputs": [
    {
     "name": "stdout",
     "output_type": "stream",
     "text": [
      "hello worldf from ganeshghag\n",
      "Today's date: 2025-02-20\n"
     ]
    }
   ],
   "source": [
    "print(\"hello worldf from ganeshghag\");\n",
    "from datetime import date\n",
    "today = date.today()\n",
    "print(\"Today's date:\", today)"
   ]
  },
  {
   "cell_type": "code",
   "execution_count": null,
   "id": "988260b9-15de-48f5-8265-c81ede64411f",
   "metadata": {},
   "outputs": [],
   "source": []
  },
  {
   "cell_type": "code",
   "execution_count": null,
   "id": "17794e88-54ee-4f6c-a112-79369bb06cfc",
   "metadata": {},
   "outputs": [],
   "source": []
  }
 ],
 "metadata": {
  "kernelspec": {
   "display_name": "Python 3 (ipykernel)",
   "language": "python",
   "name": "python3"
  },
  "language_info": {
   "codemirror_mode": {
    "name": "ipython",
    "version": 3
   },
   "file_extension": ".py",
   "mimetype": "text/x-python",
   "name": "python",
   "nbconvert_exporter": "python",
   "pygments_lexer": "ipython3",
   "version": "3.12.8"
  }
 },
 "nbformat": 4,
 "nbformat_minor": 5
}
