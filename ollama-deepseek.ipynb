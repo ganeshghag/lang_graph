{
 "cells": [
  {
   "cell_type": "code",
   "execution_count": null,
   "id": "f7e106c8-e5a0-41ee-98a2-bdfd34a56333",
   "metadata": {},
   "outputs": [],
   "source": [
    "from langchain_ollama.llms import OllamaLLM\n",
    "\n",
    "llm = OllamaLLM(model=\"deepseek-r1:7b\")\n",
    "llm.invoke(\"Tell me a joke\")"
   ]
  },
  {
   "cell_type": "code",
   "execution_count": null,
   "id": "4f758b5a-315e-49a4-9f29-98959dc495a8",
   "metadata": {},
   "outputs": [],
   "source": [
    "llm.invoke(\"How many Rs are there in strawberry?\")"
   ]
  },
  {
   "cell_type": "code",
   "execution_count": null,
   "id": "76b66cb9-c94d-4842-89fc-0c84a71c838e",
   "metadata": {},
   "outputs": [],
   "source": []
  }
 ],
 "metadata": {
  "kernelspec": {
   "display_name": "Python 3 (ipykernel)",
   "language": "python",
   "name": "python3"
  },
  "language_info": {
   "codemirror_mode": {
    "name": "ipython",
    "version": 3
   },
   "file_extension": ".py",
   "mimetype": "text/x-python",
   "name": "python",
   "nbconvert_exporter": "python",
   "pygments_lexer": "ipython3",
   "version": "3.12.8"
  }
 },
 "nbformat": 4,
 "nbformat_minor": 5
}
